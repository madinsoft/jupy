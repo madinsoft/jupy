{
 "cells": [
  {
   "cell_type": "code",
   "execution_count": 1,
   "metadata": {},
   "outputs": [],
   "source": [
    "from os import getenv\n",
    "ROOT_PATH = getenv('ROOT_PATH')"
   ]
  },
  {
   "cell_type": "code",
   "execution_count": 2,
   "metadata": {},
   "outputs": [],
   "source": [
    "from ipywidgets import Image, HTML, Dropdown, SelectMultiple\n",
    "from ipywidgets import AppLayout, Layout, VBox, HBox"
   ]
  },
  {
   "cell_type": "code",
   "execution_count": 3,
   "metadata": {},
   "outputs": [],
   "source": [
    "from owdigets import OPanel, OButton"
   ]
  },
  {
   "cell_type": "code",
   "execution_count": 4,
   "metadata": {},
   "outputs": [],
   "source": [
    "dp2 = Dropdown(\n",
    "    options=['HOT', 'COLD', 'MIDDLE'],\n",
    "    value='HOT',\n",
    "    description='Fluid:',\n",
    ")\n",
    "# dp2"
   ]
  },
  {
   "cell_type": "code",
   "execution_count": 5,
   "metadata": {},
   "outputs": [],
   "source": [
    "dp3 = Dropdown(\n",
    "    options=['IN', 'OUT', 'I/O'],\n",
    "    value='IN',\n",
    "    description='Position:',\n",
    ")"
   ]
  },
  {
   "cell_type": "code",
   "execution_count": 6,
   "metadata": {},
   "outputs": [],
   "source": [
    "sm2 = SelectMultiple(\n",
    "    options=['Cf', 'K', 'alpha', 'ksi'],\n",
    "    value=['Cf'],\n",
    "    description='Params',\n",
    "    disabled=False\n",
    ")"
   ]
  },
  {
   "cell_type": "code",
   "execution_count": 7,
   "metadata": {},
   "outputs": [],
   "source": [
    "def run():\n",
    "    print('Run')\n",
    "\n",
    "data_graph = {\n",
    "    'Pressure parameters': [ \n",
    "        {'customWidget': dp2, 'name': 'fluid'}, \n",
    "        {'customWidget': dp3, 'name': 'position'}, \n",
    "        {'customWidget': sm2, 'name': 'params'}, \n",
    "    ], \n",
    "}\n",
    "pn2 = OPanel('Pressure drop', data_graph, [OButton('RUN', run)], height='200px')\n",
    "# pn2"
   ]
  },
  {
   "cell_type": "code",
   "execution_count": 8,
   "metadata": {},
   "outputs": [],
   "source": [
    "data = {\n",
    "    'Uploads': [\n",
    "        {'type': 'OFileUpload', 'name': 'Simulated points', 'tooltip': 'File with measured points', 'accept': '.mat'},\n",
    "        {'type': 'OFileUpload', 'name': 'xml', 'tooltip': 'Template file with geometric description of HX', 'accept': '.xml'},\n",
    "    ],\n",
    "  \n",
    "     'Advanced': [\n",
    "        {'type': 'OCheckbox', 'name': 'clear cache'},\n",
    "        {'type': 'OCheckbox', 'name': 'multiprocessing'},\n",
    "    ],   \n",
    "}\n",
    "pn_uploads = OPanel('Inputs', data)\n",
    "# pn_uploads"
   ]
  },
  {
   "cell_type": "code",
   "execution_count": 9,
   "metadata": {},
   "outputs": [],
   "source": [
    "def action1():\n",
    "    print('action1')\n",
    "\n",
    "data = {\n",
    "    'Efficiency': [\n",
    "        {'type': 'OBoundedText', 'name': 'intpu1'},\n",
    "        {'type': 'OBoundedText', 'name': 'intpu2'},\n",
    "    ],\n",
    "    'Optimisation': [\n",
    "        {'type': 'OText', 'name': 'name'},\n",
    "        {'type': 'OBoundedIntText', 'name': 'budget', 'value': 20},\n",
    "    ],  \n",
    "}\n",
    "pn1 = OPanel('Example', data, [OButton('Action', action1)])\n",
    "# pn1"
   ]
  },
  {
   "cell_type": "code",
   "execution_count": 10,
   "metadata": {},
   "outputs": [],
   "source": [
    "img = open(f\"./img/example.png\", \"rb\").read()\n",
    "data_graph = {\n",
    "    'Graph': [ {'type': 'Image', 'name': 'example', 'value': img, 'format': 'png'}, ], \n",
    "}\n",
    "\n",
    "pn_gr = OPanel('Graph', data_graph, height='800px')\n",
    "# pn_gr"
   ]
  },
  {
   "cell_type": "code",
   "execution_count": 11,
   "metadata": {},
   "outputs": [],
   "source": [
    "footer_wdg = HBox(\n",
    "    [\n",
    "        HTML(\n",
    "            value=\"<div class='endp' style='font-size:12px;'><em>© LTS Copyright, \\\n",
    "                OM team . Created using Python 3.11.5 & \\\n",
    "                JupyterLab 3.2.1.</em></div>\"\n",
    "        )\n",
    "    ],\n",
    "    layout=Layout(align_items=\"center\", justify_content=\"center\"),\n",
    ")\n",
    "# footer_wdg\n"
   ]
  },
  {
   "cell_type": "code",
   "execution_count": 12,
   "metadata": {},
   "outputs": [],
   "source": [
    "img_wdg = Image(\n",
    "    value=open(\"./img/Application.png\", \"rb\").read(),\n",
    "    format=\"png\",\n",
    "    width=107,\n",
    "    layout=Layout(margin=\"0 27px 0 27px\"),\n",
    ")\n",
    "\n",
    "appli_title_wdg = HTML(\n",
    "    value=\"<div class='natp title'><strong>demo Simulator 2</strong></div>\\\n",
    "            <div style='height:7px;'></div>\\\n",
    "            <div class='natp'>This tool illustrates data visualization with voila.</div>\\\n",
    "            <div style='height:1px;'></div>\\\n",
    "            <div>Version 0.0.0 </div>\\\n",
    "            <div style='background:black;height:1px;'></div>\",\n",
    ")\n",
    "\n",
    "header_wdg = HBox( \n",
    "    children=[img_wdg, appli_title_wdg], \n",
    "    layout=Layout(align_items=\"center\", justify_content=\"center\", padding=\"0 0 -27px 0\" ), \n",
    ")"
   ]
  },
  {
   "cell_type": "code",
   "execution_count": null,
   "metadata": {},
   "outputs": [],
   "source": [
    "left_sidebar = VBox([pn_uploads, pn1, pn2])\n",
    "app = AppLayout(header=header_wdg,\n",
    "                left_sidebar=left_sidebar,\n",
    "                center=pn_gr,\n",
    "                footer=footer_wdg)\n",
    "\n",
    "app"
   ]
  }
 ],
 "metadata": {
  "kernelspec": {
   "display_name": ".venv",
   "language": "python",
   "name": "python3"
  },
  "language_info": {
   "codemirror_mode": {
    "name": "ipython",
    "version": 3
   },
   "file_extension": ".py",
   "mimetype": "text/x-python",
   "name": "python",
   "nbconvert_exporter": "python",
   "pygments_lexer": "ipython3",
   "version": "3.11.5"
  }
 },
 "nbformat": 4,
 "nbformat_minor": 4
}
